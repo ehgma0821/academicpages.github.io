{
 "cells": [
  {
   "cell_type": "markdown",
   "metadata": {},
   "source": [
    "# Leaflet cluster map of talk locations\n",
    "\n",
    "Run this from the _talks/ directory, which contains .md files of all your talks. This scrapes the location YAML field from each .md file, geolocates it with geopy/Nominatim, and uses the getorg library to output data, HTML, and Javascript for a standalone cluster map."
   ]
  },
  {
   "cell_type": "code",
   "execution_count": 1,
   "metadata": {},
   "outputs": [
    {
     "name": "stdout",
     "output_type": "stream",
     "text": [
      "Collecting getorg\n",
      "  Downloading getorg-0.3.1-py2.py3-none-any.whl\n",
      "Collecting retrying (from getorg)\n",
      "  Downloading retrying-1.3.3.tar.gz\n",
      "Collecting geopy (from getorg)\n",
      "  Using cached geopy-1.11.0-py2.py3-none-any.whl\n",
      "Collecting pygithub (from getorg)\n",
      "  Downloading PyGithub-1.35.tar.gz (2.6MB)\n",
      "Collecting six>=1.7.0 (from retrying->getorg)\n",
      "  Downloading six-1.11.0-py2.py3-none-any.whl\n",
      "Collecting pyjwt (from pygithub->getorg)\n",
      "  Downloading PyJWT-1.5.3-py2.py3-none-any.whl\n",
      "Building wheels for collected packages: retrying, pygithub\n",
      "  Running setup.py bdist_wheel for retrying: started\n",
      "  Running setup.py bdist_wheel for retrying: finished with status 'done'\n",
      "  Stored in directory: C:\\Users\\doheum\\AppData\\Local\\pip\\Cache\\wheels\\d9\\08\\aa\\49f7c109140006ea08a7657640aee3feafb65005bcd5280679\n",
      "  Running setup.py bdist_wheel for pygithub: started\n",
      "  Running setup.py bdist_wheel for pygithub: finished with status 'done'\n",
      "  Stored in directory: C:\\Users\\doheum\\AppData\\Local\\pip\\Cache\\wheels\\16\\ac\\6a\\9489745d921b8eb7abea30391885fa17ac44caedea3977459b\n",
      "Successfully built retrying pygithub\n",
      "Installing collected packages: six, retrying, geopy, pyjwt, pygithub, getorg\n",
      "  Found existing installation: six 1.10.0\n",
      "    Uninstalling six-1.10.0:\n",
      "      Successfully uninstalled six-1.10.0\n",
      "Successfully installed geopy-1.11.0 getorg-0.3.1 pygithub-1.35 pyjwt-1.5.3 retrying-1.3.3 six-1.11.0\n"
     ]
    },
    {
     "name": "stderr",
     "output_type": "stream",
     "text": [
      "    DEPRECATION: Uninstalling a distutils installed project (six) has been deprecated and will be removed in a future version. This is due to the fact that uninstalling a distutils project will only partially uninstall the project.\n"
     ]
    },
    {
     "name": "stdout",
     "output_type": "stream",
     "text": [
      "Iywidgets and ipyleaflet support disabled. You must be in a Jupyter notebook to use this feature.\n",
      "Error raised:\n",
      "No module named ipyleaflet\n",
      "Check that you have enabled ipyleaflet in Jupyter with:\n",
      "    jupyter nbextension enable --py ipyleaflet\n"
     ]
    }
   ],
   "source": [
    "!pip install getorg --upgrade\n",
    "import glob\n",
    "import getorg\n",
    "from geopy import Nominatim"
   ]
  },
  {
   "cell_type": "code",
   "execution_count": 2,
   "metadata": {},
   "outputs": [],
   "source": [
    "g = glob.glob(\"_talks/*.md\")"
   ]
  },
  {
   "cell_type": "code",
   "execution_count": 3,
   "metadata": {
    "collapsed": true
   },
   "outputs": [],
   "source": [
    "geocoder = Nominatim()\n",
    "location_dict = {}\n",
    "location = \"\"\n",
    "permalink = \"\"\n",
    "title = \"\""
   ]
  },
  {
   "cell_type": "code",
   "execution_count": 4,
   "metadata": {},
   "outputs": [
    {
     "name": "stdout",
     "output_type": "stream",
     "text": [
      "('Bologna, Italy', '\\n', Location((44.4936714, 11.3430347, 0.0)))\n",
      "('Lucca, Italy', '\\n', Location((43.8428381, 10.502876, 0.0)))\n",
      "('Berkeley, California', '\\n', Location((37.8708393, -122.2728639, 0.0)))\n",
      "('Berkeley, California', '\\n', Location((37.8708393, -122.2728639, 0.0)))\n",
      "('Zaragoza, Spain', '\\n', Location((41.6521342, -0.8809428, 0.0)))\n",
      "('Seoul, South Korea', '\\n', Location((37.5666791, 126.9782914, 0.0)))\n",
      "('Seoul, South Korea', '\\n', Location((37.5666791, 126.9782914, 0.0)))\n",
      "('Dubrovnik, Croatia', '\\n', Location((42.6500417, 18.0899176, 0.0)))\n"
     ]
    }
   ],
   "source": [
    "\n",
    "for file in g:\n",
    "    with open(file, 'r') as f:\n",
    "        lines = f.read()\n",
    "        if lines.find('location: \"') > 1:\n",
    "            loc_start = lines.find('location: \"') + 11\n",
    "            lines_trim = lines[loc_start:]\n",
    "            loc_end = lines_trim.find('\"')\n",
    "            location = lines_trim[:loc_end]\n",
    "                            \n",
    "           \n",
    "        location_dict[location] = geocoder.geocode(location)\n",
    "        print(location, \"\\n\", location_dict[location])\n"
   ]
  },
  {
   "cell_type": "code",
   "execution_count": 6,
   "metadata": {},
   "outputs": [
    {
     "data": {
      "text/plain": [
       "'Written map to talkmap/'"
      ]
     },
     "execution_count": 6,
     "metadata": {},
     "output_type": "execute_result"
    }
   ],
   "source": [
    "m = getorg.orgmap.create_map_obj()\n",
    "getorg.orgmap.output_html_cluster_map(location_dict, folder_name=\"talkmap\", hashed_usernames=False)"
   ]
  },
  {
   "cell_type": "code",
   "execution_count": null,
   "metadata": {
    "collapsed": true
   },
   "outputs": [],
   "source": []
  }
 ],
 "metadata": {
  "anaconda-cloud": {},
  "kernelspec": {
   "display_name": "Python 2",
   "language": "python",
   "name": "python2"
  },
  "language_info": {
   "codemirror_mode": {
    "name": "ipython",
    "version": 2
   },
   "file_extension": ".py",
   "mimetype": "text/x-python",
   "name": "python",
   "nbconvert_exporter": "python",
   "pygments_lexer": "ipython2",
   "version": "2.7.13"
  }
 },
 "nbformat": 4,
 "nbformat_minor": 1
}
